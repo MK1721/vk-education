{
  "nbformat": 4,
  "nbformat_minor": 0,
  "metadata": {
    "colab": {
      "provenance": []
    },
    "kernelspec": {
      "name": "python3",
      "display_name": "Python 3"
    },
    "language_info": {
      "name": "python"
    }
  },
  "cells": [
    {
      "cell_type": "code",
      "execution_count": 1,
      "metadata": {
        "id": "-qe0jIVKXKBc"
      },
      "outputs": [],
      "source": [
        "import torch\n",
        "import torch.nn.functional as F\n",
        "import torchvision\n",
        "import os\n",
        "from torch import nn\n",
        "from tqdm import tqdm"
      ]
    },
    {
      "cell_type": "code",
      "source": [
        "transform = torchvision.transforms.Compose(\n",
        "    [\n",
        "        torchvision.transforms.ToTensor(),\n",
        "        torchvision.transforms.Normalize((0.1307,), (0.3081,))\n",
        "    ]\n",
        ")"
      ],
      "metadata": {
        "id": "Wr6wld_RXpfV"
      },
      "execution_count": 2,
      "outputs": []
    },
    {
      "cell_type": "code",
      "source": [
        "import numpy as np\n",
        "\n",
        "def seed_everything(seed):\n",
        "    os.environ['PYTHONHASHSEED'] = str(seed)\n",
        "    np.random.seed(seed)\n",
        "    torch.manual_seed(seed)\n",
        "    torch.backends.cudnn.deterministic = True\n",
        "    torch.backends.cudnn.benchmark = False"
      ],
      "metadata": {
        "id": "JB56bUlSXr5j"
      },
      "execution_count": 3,
      "outputs": []
    },
    {
      "cell_type": "code",
      "source": [
        "seed_everything(42)\n",
        "\n",
        "mnist_train = torchvision.datasets.MNIST(\n",
        "    './mnist/',\n",
        "    train=True,\n",
        "    download=True,\n",
        "    transform=transform\n",
        ")\n",
        "\n",
        "mnist_val = torchvision.datasets.MNIST(\n",
        "    './mnist/',\n",
        "    train=False,\n",
        "    download=True,\n",
        "    transform=transform\n",
        ")\n",
        "\n",
        "train_dataloader = torch.utils.data.DataLoader(mnist_train, batch_size=64, shuffle=True)\n",
        "val_dataloader = torch.utils.data.DataLoader(mnist_val, batch_size=64, shuffle=True)"
      ],
      "metadata": {
        "colab": {
          "base_uri": "https://localhost:8080/"
        },
        "id": "FPrEhkVbXtwB",
        "outputId": "ceae4e94-a19f-4526-97e3-aeab65825e54"
      },
      "execution_count": 4,
      "outputs": [
        {
          "output_type": "stream",
          "name": "stderr",
          "text": [
            "100%|██████████| 9.91M/9.91M [00:00<00:00, 130MB/s]\n",
            "100%|██████████| 28.9k/28.9k [00:00<00:00, 9.31MB/s]\n",
            "100%|██████████| 1.65M/1.65M [00:00<00:00, 92.6MB/s]\n",
            "100%|██████████| 4.54k/4.54k [00:00<00:00, 3.57MB/s]\n"
          ]
        }
      ]
    },
    {
      "cell_type": "code",
      "source": [
        "import matplotlib.pyplot as plt\n",
        "\n",
        "plt.imshow(mnist_train[0][0].squeeze(0).numpy().reshape([28, 28]))"
      ],
      "metadata": {
        "colab": {
          "base_uri": "https://localhost:8080/",
          "height": 447
        },
        "id": "6UKTQxp9YAv6",
        "outputId": "51a253bb-3738-4c16-82dc-44af8bb243e0"
      },
      "execution_count": 5,
      "outputs": [
        {
          "output_type": "execute_result",
          "data": {
            "text/plain": [
              "<matplotlib.image.AxesImage at 0x79ba9b185160>"
            ]
          },
          "metadata": {},
          "execution_count": 5
        },
        {
          "output_type": "display_data",
          "data": {
            "text/plain": [
              "<Figure size 640x480 with 1 Axes>"
            ],
            "image/png": "[encoded data removed]"
          },
          "metadata": {}
        }
      ]
    },
    {
      "cell_type": "markdown",
      "source": [
        "Попробуем использовать в качестве оптимизатора Adam, а для функции потерь оставим cross_entropy, но введём параметр сглаживания label_smoothing."
      ],
      "metadata": {
        "id": "ut4GdySXJtdy"
      }
    },
    {
      "cell_type": "code",
      "source": [
        "model = nn.Sequential(\n",
        "    nn.Flatten(),\n",
        "    nn.Linear(28*28, 128),\n",
        "    nn.ReLU(),\n",
        "    nn.Linear(128, 10)\n",
        ")\n",
        "\n",
        "optimizer = torch.optim.Adam(model.parameters(), lr=1e-3)"
      ],
      "metadata": {
        "id": "xXIOwR6XYR3b"
      },
      "execution_count": 6,
      "outputs": []
    },
    {
      "cell_type": "code",
      "source": [
        "def train(model, optimizer, n_epochs=5):\n",
        "    for epoch in range(n_epochs):\n",
        "\n",
        "        # обучение\n",
        "        for x_train, y_train in tqdm(train_dataloader):\n",
        "            y_pred = model(x_train)\n",
        "            loss = F.cross_entropy(y_pred, y_train, label_smoothing=0.1)\n",
        "            loss.backward()\n",
        "            optimizer.step()\n",
        "            optimizer.zero_grad()\n",
        "\n",
        "        # валидация\n",
        "        if epoch % 2 == 0:\n",
        "            val_loss = []\n",
        "            val_accuracy = []\n",
        "            with torch.no_grad():\n",
        "                for x_val, y_val in tqdm(val_dataloader):\n",
        "                    y_pred = model(x_val)\n",
        "                    loss = F.cross_entropy(y_pred, y_val, label_smoothing=0.1)\n",
        "                    val_loss.append(loss.numpy())\n",
        "                    val_accuracy.extend((torch.argmax(y_pred, dim=-1) == y_val).numpy().tolist())\n",
        "\n",
        "            print(f'Epoch: {epoch}, loss: {np.mean(val_loss)}, accuracy: {np.mean(val_accuracy)}')"
      ],
      "metadata": {
        "id": "qSWep-ZcZHGY"
      },
      "execution_count": 9,
      "outputs": []
    },
    {
      "cell_type": "code",
      "source": [
        "train(model, optimizer)"
      ],
      "metadata": {
        "colab": {
          "base_uri": "https://localhost:8080/"
        },
        "id": "QPs5LAkAam0y",
        "outputId": "41a710af-85a8-43d2-d359-4a69c51175c2"
      },
      "execution_count": 10,
      "outputs": [
        {
          "output_type": "stream",
          "name": "stderr",
          "text": [
            "100%|██████████| 938/938 [00:24<00:00, 38.68it/s]\n",
            "100%|██████████| 157/157 [00:02<00:00, 57.17it/s]\n"
          ]
        },
        {
          "output_type": "stream",
          "name": "stdout",
          "text": [
            "Epoch: 0, loss: 0.616422712802887, accuracy: 0.9725\n"
          ]
        },
        {
          "output_type": "stream",
          "name": "stderr",
          "text": [
            "100%|██████████| 938/938 [00:22<00:00, 41.95it/s]\n",
            "100%|██████████| 938/938 [00:19<00:00, 47.37it/s]\n",
            "100%|██████████| 157/157 [00:02<00:00, 61.30it/s]\n"
          ]
        },
        {
          "output_type": "stream",
          "name": "stdout",
          "text": [
            "Epoch: 2, loss: 0.5932413339614868, accuracy: 0.9791\n"
          ]
        },
        {
          "output_type": "stream",
          "name": "stderr",
          "text": [
            "100%|██████████| 938/938 [00:21<00:00, 42.99it/s]\n",
            "100%|██████████| 938/938 [00:20<00:00, 45.44it/s]\n",
            "100%|██████████| 157/157 [00:02<00:00, 61.33it/s]"
          ]
        },
        {
          "output_type": "stream",
          "name": "stdout",
          "text": [
            "Epoch: 4, loss: 0.590510368347168, accuracy: 0.9794\n"
          ]
        },
        {
          "output_type": "stream",
          "name": "stderr",
          "text": [
            "\n"
          ]
        }
      ]
    },
    {
      "cell_type": "markdown",
      "source": [
        "Как видно, baseline в 0.9747 уже преодолен. Попробуем ещё улучшить результат. Изменим немного архитектуру."
      ],
      "metadata": {
        "id": "dzXfsC8PKVda"
      }
    },
    {
      "cell_type": "code",
      "source": [
        "model = nn.Sequential(\n",
        "    nn.Conv2d(in_channels=1, out_channels=10, kernel_size=5),  # grayscale\n",
        "    nn.ReLU(),\n",
        "    nn.MaxPool2d(kernel_size=4),   # сократим изображение в 4 раза по каждой из сторон\n",
        "    nn.Flatten(),\n",
        "    nn.Linear(6*6*10, 128),\n",
        "    nn.ReLU(),\n",
        "    nn.Linear(128, 10)\n",
        ")"
      ],
      "metadata": {
        "id": "lF_sagUpbOFw"
      },
      "execution_count": 11,
      "outputs": []
    },
    {
      "cell_type": "code",
      "source": [
        "optimizer = torch.optim.Adam(model.parameters(), lr=1e-3)"
      ],
      "metadata": {
        "id": "Hr_l5rRFbQ0S"
      },
      "execution_count": 12,
      "outputs": []
    },
    {
      "cell_type": "code",
      "source": [
        "train(model, optimizer)"
      ],
      "metadata": {
        "colab": {
          "base_uri": "https://localhost:8080/"
        },
        "id": "t6Sz_Qd5bSNk",
        "outputId": "9fe25aa9-81f8-4f9f-c56f-6a171e683688"
      },
      "execution_count": 13,
      "outputs": [
        {
          "output_type": "stream",
          "name": "stderr",
          "text": [
            "100%|██████████| 938/938 [00:29<00:00, 31.45it/s]\n",
            "100%|██████████| 157/157 [00:03<00:00, 50.71it/s]\n"
          ]
        },
        {
          "output_type": "stream",
          "name": "stdout",
          "text": [
            "Epoch: 0, loss: 0.5990191698074341, accuracy: 0.9802\n"
          ]
        },
        {
          "output_type": "stream",
          "name": "stderr",
          "text": [
            "100%|██████████| 938/938 [00:30<00:00, 31.05it/s]\n",
            "100%|██████████| 938/938 [00:30<00:00, 30.89it/s]\n",
            "100%|██████████| 157/157 [00:03<00:00, 50.06it/s]\n"
          ]
        },
        {
          "output_type": "stream",
          "name": "stdout",
          "text": [
            "Epoch: 2, loss: 0.5638371706008911, accuracy: 0.9884\n"
          ]
        },
        {
          "output_type": "stream",
          "name": "stderr",
          "text": [
            "100%|██████████| 938/938 [00:29<00:00, 31.97it/s]\n",
            "100%|██████████| 938/938 [00:30<00:00, 30.84it/s]\n",
            "100%|██████████| 157/157 [00:03<00:00, 50.72it/s]"
          ]
        },
        {
          "output_type": "stream",
          "name": "stdout",
          "text": [
            "Epoch: 4, loss: 0.5532363653182983, accuracy: 0.9897\n"
          ]
        },
        {
          "output_type": "stream",
          "name": "stderr",
          "text": [
            "\n"
          ]
        }
      ]
    },
    {
      "cell_type": "code",
      "source": [
        "optimizer = torch.optim.AdamW(model.parameters(), lr=1e-3)"
      ],
      "metadata": {
        "id": "Kp9h1iCkcHMb"
      },
      "execution_count": 14,
      "outputs": []
    },
    {
      "cell_type": "code",
      "source": [
        "train(model, optimizer)"
      ],
      "metadata": {
        "colab": {
          "base_uri": "https://localhost:8080/"
        },
        "id": "qJAUuv3XcICR",
        "outputId": "59bf4897-7d99-4ec0-bb1a-fa741f5c5828"
      },
      "execution_count": 15,
      "outputs": [
        {
          "output_type": "stream",
          "name": "stderr",
          "text": [
            "100%|██████████| 938/938 [00:29<00:00, 32.14it/s]\n",
            "100%|██████████| 157/157 [00:03<00:00, 49.66it/s]\n"
          ]
        },
        {
          "output_type": "stream",
          "name": "stdout",
          "text": [
            "Epoch: 0, loss: 0.553332507610321, accuracy: 0.9899\n"
          ]
        },
        {
          "output_type": "stream",
          "name": "stderr",
          "text": [
            "100%|██████████| 938/938 [00:29<00:00, 32.02it/s]\n",
            "100%|██████████| 938/938 [00:30<00:00, 31.08it/s]\n",
            "100%|██████████| 157/157 [00:03<00:00, 52.26it/s]\n"
          ]
        },
        {
          "output_type": "stream",
          "name": "stdout",
          "text": [
            "Epoch: 2, loss: 0.5491068959236145, accuracy: 0.9909\n"
          ]
        },
        {
          "output_type": "stream",
          "name": "stderr",
          "text": [
            "100%|██████████| 938/938 [00:29<00:00, 32.29it/s]\n",
            "100%|██████████| 938/938 [00:29<00:00, 31.27it/s]\n",
            "100%|██████████| 157/157 [00:03<00:00, 47.12it/s]"
          ]
        },
        {
          "output_type": "stream",
          "name": "stdout",
          "text": [
            "Epoch: 4, loss: 0.5444186329841614, accuracy: 0.9916\n"
          ]
        },
        {
          "output_type": "stream",
          "name": "stderr",
          "text": [
            "\n"
          ]
        }
      ]
    },
    {
      "cell_type": "markdown",
      "source": [
        "Здорово! Мы получили ещё больший скор. Попробуем уменьшить размер ядра."
      ],
      "metadata": {
        "id": "UvrXSlCRMMLV"
      }
    },
    {
      "cell_type": "code",
      "source": [
        "model = nn.Sequential(\n",
        "    nn.Conv2d(in_channels=1, out_channels=10, kernel_size=3),  # grayscale\n",
        "    nn.ReLU(),\n",
        "    nn.MaxPool2d(kernel_size=4),   # сократим изображение в 4 раза по каждой из сторон\n",
        "    nn.Flatten(),\n",
        "    nn.Linear(6*6*10, 128),\n",
        "    nn.ReLU(),\n",
        "    nn.Linear(128, 10)\n",
        ")"
      ],
      "metadata": {
        "id": "a9BhR75beH1z"
      },
      "execution_count": 16,
      "outputs": []
    },
    {
      "cell_type": "code",
      "source": [
        "optimizer = torch.optim.AdamW(model.parameters(), lr=1e-3)"
      ],
      "metadata": {
        "id": "WBcAjWS5eLs1"
      },
      "execution_count": 17,
      "outputs": []
    },
    {
      "cell_type": "code",
      "source": [
        "train(model, optimizer)"
      ],
      "metadata": {
        "colab": {
          "base_uri": "https://localhost:8080/"
        },
        "id": "AUOFCiBPeMkJ",
        "outputId": "9d7e4eaa-849d-4603-dc12-6e799b162de6"
      },
      "execution_count": 18,
      "outputs": [
        {
          "output_type": "stream",
          "name": "stderr",
          "text": [
            "100%|██████████| 938/938 [00:27<00:00, 33.71it/s]\n",
            "100%|██████████| 157/157 [00:03<00:00, 44.55it/s]\n"
          ]
        },
        {
          "output_type": "stream",
          "name": "stdout",
          "text": [
            "Epoch: 0, loss: 0.6301711797714233, accuracy: 0.9707\n"
          ]
        },
        {
          "output_type": "stream",
          "name": "stderr",
          "text": [
            "100%|██████████| 938/938 [00:28<00:00, 32.70it/s]\n",
            "100%|██████████| 938/938 [00:28<00:00, 33.04it/s]\n",
            "100%|██████████| 157/157 [00:03<00:00, 46.63it/s]\n"
          ]
        },
        {
          "output_type": "stream",
          "name": "stdout",
          "text": [
            "Epoch: 2, loss: 0.5817397236824036, accuracy: 0.9836\n"
          ]
        },
        {
          "output_type": "stream",
          "name": "stderr",
          "text": [
            "100%|██████████| 938/938 [00:27<00:00, 33.66it/s]\n",
            "100%|██████████| 938/938 [00:29<00:00, 31.46it/s]\n",
            "100%|██████████| 157/157 [00:03<00:00, 39.82it/s]"
          ]
        },
        {
          "output_type": "stream",
          "name": "stdout",
          "text": [
            "Epoch: 4, loss: 0.5702000260353088, accuracy: 0.9848\n"
          ]
        },
        {
          "output_type": "stream",
          "name": "stderr",
          "text": [
            "\n"
          ]
        }
      ]
    },
    {
      "cell_type": "markdown",
      "source": [
        "Скор уменьшился. Попробуем вернуться к прошлой архитектуре и использовать другой оптимизатор."
      ],
      "metadata": {
        "id": "k9ffLmeVM165"
      }
    },
    {
      "cell_type": "code",
      "source": [
        "model = nn.Sequential(\n",
        "    nn.Conv2d(in_channels=1, out_channels=10, kernel_size=5),  # grayscale\n",
        "    nn.ReLU(),\n",
        "    nn.MaxPool2d(kernel_size=4),   # сократим изображение в 4 раза по каждой из сторон\n",
        "    nn.Flatten(),\n",
        "    nn.Linear(6*6*10, 128),\n",
        "    nn.ReLU(),\n",
        "    nn.Linear(128, 10)\n",
        ")"
      ],
      "metadata": {
        "id": "DuCgZUT8NG0I"
      },
      "execution_count": 19,
      "outputs": []
    },
    {
      "cell_type": "code",
      "source": [
        "optimizer = torch.optim.NAdam(model.parameters(), lr=1e-3)"
      ],
      "metadata": {
        "id": "L18pskrqNI1e"
      },
      "execution_count": 21,
      "outputs": []
    },
    {
      "cell_type": "code",
      "source": [
        "train(model, optimizer)"
      ],
      "metadata": {
        "colab": {
          "base_uri": "https://localhost:8080/"
        },
        "id": "25QzANA3NKoB",
        "outputId": "0ff804e0-1813-4247-d01c-1ec46ea6c710"
      },
      "execution_count": 22,
      "outputs": [
        {
          "output_type": "stream",
          "name": "stderr",
          "text": [
            "100%|██████████| 938/938 [00:31<00:00, 29.79it/s]\n",
            "100%|██████████| 157/157 [00:03<00:00, 51.20it/s]\n"
          ]
        },
        {
          "output_type": "stream",
          "name": "stdout",
          "text": [
            "Epoch: 0, loss: 0.5906800627708435, accuracy: 0.9817\n"
          ]
        },
        {
          "output_type": "stream",
          "name": "stderr",
          "text": [
            "100%|██████████| 938/938 [00:30<00:00, 31.14it/s]\n",
            "100%|██████████| 938/938 [00:30<00:00, 31.03it/s]\n",
            "100%|██████████| 157/157 [00:03<00:00, 51.27it/s]\n"
          ]
        },
        {
          "output_type": "stream",
          "name": "stdout",
          "text": [
            "Epoch: 2, loss: 0.5593401193618774, accuracy: 0.9888\n"
          ]
        },
        {
          "output_type": "stream",
          "name": "stderr",
          "text": [
            "100%|██████████| 938/938 [00:34<00:00, 26.99it/s]\n",
            "100%|██████████| 938/938 [00:30<00:00, 30.43it/s]\n",
            "100%|██████████| 157/157 [00:03<00:00, 50.67it/s]"
          ]
        },
        {
          "output_type": "stream",
          "name": "stdout",
          "text": [
            "Epoch: 4, loss: 0.5514333248138428, accuracy: 0.9896\n"
          ]
        },
        {
          "output_type": "stream",
          "name": "stderr",
          "text": [
            "\n"
          ]
        }
      ]
    },
    {
      "cell_type": "markdown",
      "source": [
        "Результат улучшился, но не превзошёл лучший. Попробуем поменять параметр label_smoothing."
      ],
      "metadata": {
        "id": "iJNbcw5zNmtA"
      }
    },
    {
      "cell_type": "code",
      "source": [
        "def train(model, optimizer, n_epochs=5):\n",
        "    for epoch in range(n_epochs):\n",
        "\n",
        "        # обучение\n",
        "        for x_train, y_train in tqdm(train_dataloader):\n",
        "            y_pred = model(x_train)\n",
        "            loss = F.cross_entropy(y_pred, y_train, label_smoothing=0.2)\n",
        "            loss.backward()\n",
        "            optimizer.step()\n",
        "            optimizer.zero_grad()\n",
        "\n",
        "        # валидация\n",
        "        if epoch % 2 == 0:\n",
        "            val_loss = []\n",
        "            val_accuracy = []\n",
        "            with torch.no_grad():\n",
        "                for x_val, y_val in tqdm(val_dataloader):\n",
        "                    y_pred = model(x_val)\n",
        "                    loss = F.cross_entropy(y_pred, y_val, label_smoothing=0.2)\n",
        "                    val_loss.append(loss.numpy())\n",
        "                    val_accuracy.extend((torch.argmax(y_pred, dim=-1) == y_val).numpy().tolist())\n",
        "\n",
        "            print(f'Epoch: {epoch}, loss: {np.mean(val_loss)}, accuracy: {np.mean(val_accuracy)}')"
      ],
      "metadata": {
        "id": "_w41_k7rjl8K"
      },
      "execution_count": 23,
      "outputs": []
    },
    {
      "cell_type": "code",
      "source": [
        "optimizer = torch.optim.NAdam(model.parameters(), lr=1e-3)"
      ],
      "metadata": {
        "id": "SC5BvGOGj8Ii"
      },
      "execution_count": 31,
      "outputs": []
    },
    {
      "cell_type": "code",
      "source": [
        "train(model, optimizer)"
      ],
      "metadata": {
        "colab": {
          "base_uri": "https://localhost:8080/"
        },
        "id": "2MNS7w2dj-tQ",
        "outputId": "5f4fb5b8-064f-4b96-8c18-38d6fa4d7c4f"
      },
      "execution_count": 27,
      "outputs": [
        {
          "output_type": "stream",
          "name": "stderr",
          "text": [
            "100%|██████████| 938/938 [00:29<00:00, 32.11it/s]\n",
            "100%|██████████| 157/157 [00:04<00:00, 38.73it/s]\n"
          ]
        },
        {
          "output_type": "stream",
          "name": "stdout",
          "text": [
            "Epoch: 0, loss: 0.9093651175498962, accuracy: 0.9901\n"
          ]
        },
        {
          "output_type": "stream",
          "name": "stderr",
          "text": [
            "100%|██████████| 938/938 [00:29<00:00, 31.87it/s]\n",
            "100%|██████████| 938/938 [00:29<00:00, 31.86it/s]\n",
            "100%|██████████| 157/157 [00:03<00:00, 44.89it/s]\n"
          ]
        },
        {
          "output_type": "stream",
          "name": "stdout",
          "text": [
            "Epoch: 2, loss: 0.907073974609375, accuracy: 0.9899\n"
          ]
        },
        {
          "output_type": "stream",
          "name": "stderr",
          "text": [
            "100%|██████████| 938/938 [00:29<00:00, 31.81it/s]\n",
            "100%|██████████| 938/938 [00:29<00:00, 32.20it/s]\n",
            "100%|██████████| 157/157 [00:03<00:00, 51.57it/s]"
          ]
        },
        {
          "output_type": "stream",
          "name": "stdout",
          "text": [
            "Epoch: 4, loss: 0.9049404859542847, accuracy: 0.9912\n"
          ]
        },
        {
          "output_type": "stream",
          "name": "stderr",
          "text": [
            "\n"
          ]
        }
      ]
    },
    {
      "cell_type": "markdown",
      "source": [
        "Теперь я хочу попробовать другие функции активации и пару разных оптимизаторов."
      ],
      "metadata": {
        "id": "Aj0DxKwqTm5r"
      }
    },
    {
      "cell_type": "code",
      "source": [
        "model = nn.Sequential(\n",
        "    nn.Conv2d(in_channels=1, out_channels=10, kernel_size=5),  # grayscale\n",
        "    nn.ELU(),\n",
        "    nn.MaxPool2d(kernel_size=4),   # сократим изображение в 4 раза по каждой из сторон\n",
        "    nn.Flatten(),\n",
        "    nn.Linear(6*6*10, 128),\n",
        "    nn.ELU(),\n",
        "    nn.Linear(128, 10)\n",
        ")"
      ],
      "metadata": {
        "id": "vnedjCntPeHu"
      },
      "execution_count": 30,
      "outputs": []
    },
    {
      "cell_type": "code",
      "source": [
        "train(model, optimizer)"
      ],
      "metadata": {
        "colab": {
          "base_uri": "https://localhost:8080/"
        },
        "id": "RWXXHKPXngRe",
        "outputId": "e6fafbd1-2fea-4e74-a7ca-136d248cefcd"
      },
      "execution_count": 32,
      "outputs": [
        {
          "output_type": "stream",
          "name": "stderr",
          "text": [
            "100%|██████████| 938/938 [00:32<00:00, 29.29it/s]\n",
            "100%|██████████| 157/157 [00:03<00:00, 46.73it/s]\n"
          ]
        },
        {
          "output_type": "stream",
          "name": "stdout",
          "text": [
            "Epoch: 0, loss: 0.9737525582313538, accuracy: 0.9784\n"
          ]
        },
        {
          "output_type": "stream",
          "name": "stderr",
          "text": [
            "100%|██████████| 938/938 [00:32<00:00, 28.53it/s]\n",
            "100%|██████████| 938/938 [00:30<00:00, 30.56it/s]\n",
            "100%|██████████| 157/157 [00:03<00:00, 46.93it/s]\n"
          ]
        },
        {
          "output_type": "stream",
          "name": "stdout",
          "text": [
            "Epoch: 2, loss: 0.9350653290748596, accuracy: 0.9872\n"
          ]
        },
        {
          "output_type": "stream",
          "name": "stderr",
          "text": [
            "100%|██████████| 938/938 [00:31<00:00, 29.57it/s]\n",
            "100%|██████████| 938/938 [00:31<00:00, 30.21it/s]\n",
            "100%|██████████| 157/157 [00:03<00:00, 43.09it/s]"
          ]
        },
        {
          "output_type": "stream",
          "name": "stdout",
          "text": [
            "Epoch: 4, loss: 0.9189772009849548, accuracy: 0.9903\n"
          ]
        },
        {
          "output_type": "stream",
          "name": "stderr",
          "text": [
            "\n"
          ]
        }
      ]
    },
    {
      "cell_type": "code",
      "source": [
        "model = nn.Sequential(\n",
        "    nn.Conv2d(in_channels=1, out_channels=10, kernel_size=5),  # grayscale\n",
        "    nn.ReLU(),\n",
        "    nn.MaxPool2d(kernel_size=4),   # сократим изображение в 4 раза по каждой из сторон\n",
        "    nn.Flatten(),\n",
        "    nn.Linear(6*6*10, 128),\n",
        "    nn.ReLU(),\n",
        "    nn.Linear(128, 10)\n",
        ")"
      ],
      "metadata": {
        "id": "ql-Re-tPRLhu"
      },
      "execution_count": 38,
      "outputs": []
    },
    {
      "cell_type": "code",
      "source": [
        "optimizer = torch.optim.RMSprop(model.parameters(), lr=1e-3)"
      ],
      "metadata": {
        "id": "FWJgY_7gR5q8"
      },
      "execution_count": 39,
      "outputs": []
    },
    {
      "cell_type": "code",
      "source": [
        "train(model, optimizer)"
      ],
      "metadata": {
        "colab": {
          "base_uri": "https://localhost:8080/"
        },
        "id": "vTXJy28cRRVG",
        "outputId": "9e855573-a5bb-45ac-99c9-a5f3a5cf9203"
      },
      "execution_count": 40,
      "outputs": [
        {
          "output_type": "stream",
          "name": "stderr",
          "text": [
            "100%|██████████| 938/938 [00:30<00:00, 30.92it/s]\n",
            "100%|██████████| 157/157 [00:03<00:00, 47.55it/s]\n"
          ]
        },
        {
          "output_type": "stream",
          "name": "stdout",
          "text": [
            "Epoch: 0, loss: 0.9867804646492004, accuracy: 0.9679\n"
          ]
        },
        {
          "output_type": "stream",
          "name": "stderr",
          "text": [
            "100%|██████████| 938/938 [00:31<00:00, 29.57it/s]\n",
            "100%|██████████| 938/938 [00:29<00:00, 31.51it/s]\n",
            "100%|██████████| 157/157 [00:03<00:00, 48.89it/s]\n"
          ]
        },
        {
          "output_type": "stream",
          "name": "stdout",
          "text": [
            "Epoch: 2, loss: 0.9237945079803467, accuracy: 0.9891\n"
          ]
        },
        {
          "output_type": "stream",
          "name": "stderr",
          "text": [
            "100%|██████████| 938/938 [00:28<00:00, 32.67it/s]\n",
            "100%|██████████| 938/938 [00:30<00:00, 30.96it/s]\n",
            "100%|██████████| 157/157 [00:03<00:00, 50.06it/s]"
          ]
        },
        {
          "output_type": "stream",
          "name": "stdout",
          "text": [
            "Epoch: 4, loss: 0.9306233525276184, accuracy: 0.9871\n"
          ]
        },
        {
          "output_type": "stream",
          "name": "stderr",
          "text": [
            "\n"
          ]
        }
      ]
    },
    {
      "cell_type": "code",
      "source": [
        "optimizer = torch.optim.Adagrad(model.parameters(), lr=1e-3)"
      ],
      "metadata": {
        "id": "GR0gvKfUSQvy"
      },
      "execution_count": 41,
      "outputs": []
    },
    {
      "cell_type": "code",
      "source": [
        "train(model, optimizer)"
      ],
      "metadata": {
        "colab": {
          "base_uri": "https://localhost:8080/"
        },
        "id": "HFINei5xSTy-",
        "outputId": "6574492e-952e-42d7-b49c-e502d8609d84"
      },
      "execution_count": 42,
      "outputs": [
        {
          "output_type": "stream",
          "name": "stderr",
          "text": [
            "100%|██████████| 938/938 [00:29<00:00, 32.31it/s]\n",
            "100%|██████████| 157/157 [00:03<00:00, 46.75it/s]\n"
          ]
        },
        {
          "output_type": "stream",
          "name": "stdout",
          "text": [
            "Epoch: 0, loss: 0.9111664295196533, accuracy: 0.9907\n"
          ]
        },
        {
          "output_type": "stream",
          "name": "stderr",
          "text": [
            "100%|██████████| 938/938 [00:29<00:00, 31.65it/s]\n",
            "100%|██████████| 938/938 [00:28<00:00, 32.63it/s]\n",
            "100%|██████████| 157/157 [00:03<00:00, 52.27it/s]\n"
          ]
        },
        {
          "output_type": "stream",
          "name": "stdout",
          "text": [
            "Epoch: 2, loss: 0.9106799364089966, accuracy: 0.9906\n"
          ]
        },
        {
          "output_type": "stream",
          "name": "stderr",
          "text": [
            "100%|██████████| 938/938 [00:29<00:00, 31.45it/s]\n",
            "100%|██████████| 938/938 [00:29<00:00, 31.82it/s]\n",
            "100%|██████████| 157/157 [00:03<00:00, 49.41it/s]"
          ]
        },
        {
          "output_type": "stream",
          "name": "stdout",
          "text": [
            "Epoch: 4, loss: 0.9104884266853333, accuracy: 0.9905\n"
          ]
        },
        {
          "output_type": "stream",
          "name": "stderr",
          "text": [
            "\n"
          ]
        }
      ]
    },
    {
      "cell_type": "markdown",
      "source": [
        "Как итог, лучший скор в 0.9916 получился с использованием AdamW(lr = 1e-3) и с использованием label_smoothing = 0.1. Как вариант, можно было попробовать ещё разные оптимизаторы, увеличить количество эпох, изменить шаг learning_rate, попробовать другие архитектуры, использовать аугментации. В целом, получился более чем удовлетворительный результат."
      ],
      "metadata": {
        "id": "AxFf1rfgT3p9"
      }
    }
  ]
}